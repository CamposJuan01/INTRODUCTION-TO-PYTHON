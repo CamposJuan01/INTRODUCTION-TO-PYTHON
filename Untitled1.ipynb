{
  "nbformat": 4,
  "nbformat_minor": 0,
  "metadata": {
    "colab": {
      "name": "Untitled1.ipynb",
      "provenance": [],
      "toc_visible": true
    },
    "kernelspec": {
      "name": "python3",
      "display_name": "Python 3"
    },
    "language_info": {
      "name": "python"
    }
  },
  "cells": [
    {
      "cell_type": "markdown",
      "metadata": {
        "id": "bKpGfkz_CigD"
      },
      "source": [
        "### *My first jupyter notebook*\n",
        "\n",
        "## **INTRODUCTION TO PYTHON**\n",
        "\n",
        "\n",
        "---\n",
        "\n",
        "\n",
        "\n"
      ]
    },
    {
      "cell_type": "markdown",
      "metadata": {
        "id": "O9eLSdO9EljD"
      },
      "source": [
        "*First...*\n",
        "\n",
        "######**WHAT IS PYTHON?**\n",
        "\n",
        "\n",
        "\n",
        "\n"
      ]
    },
    {
      "cell_type": "markdown",
      "metadata": {
        "id": "xFKVuMVVJVYf"
      },
      "source": [
        "![](https://dc722jrlp2zu8.cloudfront.net/media/cache/6b/18/6b18e01d787af742fe39f0bd656b482c.webp)\n",
        "\n",
        "Python is now considered the old Jenkin's of programmers, it is a very old programming language, which has been implemented in countless applications and various operating systems until today, among them Mac, Windows, Android and iOS, etc.\n",
        "\n",
        "> The highlight of this language is its readable and extremely clean code, and that one of the reasons for its great impact on the programming world is because it has an open source license that allows its use on any platform.\n",
        "\n",
        "---\n",
        "\n",
        "\n",
        "\n",
        "\n",
        "\n"
      ]
    },
    {
      "cell_type": "markdown",
      "metadata": {
        "id": "Ca9uP_4ANyMM"
      },
      "source": [
        "#####Let's talk a little about Guido Van Rossum...\n",
        "\n",
        "\n",
        "\n",
        "---\n",
        "\n",
        "\n",
        "\n",
        "\n",
        "\n",
        "\n",
        "\n",
        "\n",
        "\n"
      ]
    },
    {
      "cell_type": "markdown",
      "metadata": {
        "id": "W7m7dxPWXsP7"
      },
      "source": [
        "![](https://upload.wikimedia.org/wikipedia/commons/6/66/Guido_van_Rossum_OSCON_2006.jpg)\n",
        "\n",
        ">Python was born in the early 90's, it was developed as a hobby by the Dutch engineer Guido Van Rossum, who at that time was working at the CWI in Amsterdam (Computer Science Research Center) and as a curiosity the name chosen ''Python'' was taken from the British comedy group Monty Python, of which Guido was an avid fan.\n",
        "\n",
        "> Guido's goal with this program was primarily to make it ideal for working with large volumes of data.\n",
        "\n",
        "The fact that it is multiplatform is what favors its extraction and processing, which is why it is chosen by Big Data companies. At a scientific level, it has a large library of resources with special emphasis on mathematics, and if this were not enough, it is possible to create video games.\n",
        "\n",
        "---\n"
      ]
    },
    {
      "cell_type": "markdown",
      "metadata": {
        "id": "64pf5n1fSbjG"
      },
      "source": [
        "# ***What are the main features of python?***\n",
        "\n",
        "---\n",
        "\n",
        "\n",
        "\n",
        "\n"
      ]
    },
    {
      "cell_type": "markdown",
      "metadata": {
        "id": "IWrHAno-XV7i"
      },
      "source": [
        "A simple, readable and elegant language that follows a set of rules that make its learning curve very short. \n",
        "\n",
        "1. **Development**: It has a large number of users. Its community actively participates in the development of the language.\n",
        "2. **Productive programming**: It is easy to learn, with a moderate learning curve.\n",
        "3. **Flexible**:The language offers many facilities to the programmer as it is easily readable and interpretable.\n",
        "4. **Portable**: It is a very portable language. We can use it in practically any current system.\n",
        "5. **Simplified**: This language greatly simplifies programming.\n",
        "6. **Clean**: It is very readable and its modules are well organized."
      ]
    },
    {
      "cell_type": "markdown",
      "metadata": {
        "id": "3Coi_LfVXJ6r"
      },
      "source": [
        "> Saving time is the quality that goes hand in hand with this language, since with simple lines of code it is possible to program high-level algorithms.\n",
        "\n",
        "![](https://www.atnyla.com/library/images-tutorials/Common_features_python.jpeg)"
      ]
    },
    {
      "cell_type": "markdown",
      "metadata": {
        "id": "CkGkdFoxY58W"
      },
      "source": [
        "#  ***What are the uses of Python?***\n",
        "---\n",
        "\n",
        "\n",
        "\n"
      ]
    },
    {
      "cell_type": "markdown",
      "metadata": {
        "id": "rVr5KAuaY_pF"
      },
      "source": [
        "The labor market trend shows that the demand for Python professionals is growing abysmally every day. \n",
        "\n",
        "It stands out mainly in:\n",
        "\n",
        "1. **Artificial Intelligence**: being a \"fast, scalable, robust and open source\" scripting language, it allows complex ideas to be captured with a few lines of code, which is not possible with other languages.\n",
        "2. **Big Data**: the use of Phyton is widespread in data analysis and information extraction. It has data processing libraries such as Pydoop, Dask and Pyspark, which further facilitate the management of large volumes of information.\n",
        "\n",
        "---\n",
        "\n"
      ]
    },
    {
      "cell_type": "markdown",
      "metadata": {
        "id": "cKeIPijqZ9Ur"
      },
      "source": [
        "####Among others are...\n",
        "---\n",
        "\n",
        "\n"
      ]
    },
    {
      "cell_type": "markdown",
      "metadata": {
        "id": "QTsPLI1bbyyy"
      },
      "source": [
        "1. **Data Science**: Phyton incorporates numerical engines such as Pandas and NumPy, which are widely used by researchers around the world. It also handles tabular, matrix and statistical data, visualized in popular libraries such as \"Matplotlib\" and \"Seaborn\", which facilitates the creation of a wide variety of graphs and visual representations of all kinds.\n",
        "\n",
        "2. **Testing Frameworks**: ideal for validating ideas or products, with many built-in frameworks that help debug code and offer fast execution flows.\n",
        "\n",
        "3. **Web Development**: with fewer lines of code, back-end web applications are built much more efficiently.\n",
        "\n",
        "4. **Computer Science Education**: its simple syntax allows students to start acquiring valuable skills for their careers. In addition, it supports various programming paradigms such as imperative, functional, procedural and object-oriented.\n",
        "\n",
        "---"
      ]
    },
    {
      "cell_type": "markdown",
      "metadata": {
        "id": "YyKwfmGcbisq"
      },
      "source": [
        "####**MEDICINE WITH PYTHON?... YES!**\n",
        "---\n",
        "\n",
        "\n",
        "\n",
        "\n",
        "\n",
        "\n"
      ]
    },
    {
      "cell_type": "markdown",
      "metadata": {
        "id": "SIfJjw1xc0J1"
      },
      "source": [
        "Python is also used to obtain information from other websites, commonly referred to as scraping. At the same time, it can be applied in game development and software development in general. It even has promising applications in the medical field that improve the ability to provide accurate diagnoses and treatments to patients.\n",
        "\n",
        "![](http://educacioncontinua.uniandes.edu.co/es/course-get-image/5715)"
      ]
    },
    {
      "cell_type": "markdown",
      "metadata": {
        "id": "JmOdNFtadIVB"
      },
      "source": [
        "# **Basic sentences in the language**"
      ]
    },
    {
      "cell_type": "markdown",
      "metadata": {
        "id": "a17fal6kdsF7"
      },
      "source": [
        "### *Print*\n",
        "---\n",
        "\n"
      ]
    },
    {
      "cell_type": "markdown",
      "metadata": {
        "id": "j2D1C4U0eELe"
      },
      "source": [
        "When developing a program, one of the most repeated and most important actions is the possibility of presenting the results of our programs on screen, to perform this task in Python we use the print() function.\n",
        "\n"
      ]
    },
    {
      "cell_type": "markdown",
      "metadata": {
        "id": "bVvMhYmgjFpb"
      },
      "source": [
        "####Print Text\n"
      ]
    },
    {
      "cell_type": "markdown",
      "metadata": {
        "id": "QXncVq8ujOFw"
      },
      "source": [
        "One of the basic and essential actions that a program has to perform is to display information on the screen: text, numbers, results...\n",
        "\n",
        "To display text in Python use the print() function, whose syntax is:"
      ]
    },
    {
      "cell_type": "code",
      "metadata": {
        "colab": {
          "base_uri": "https://localhost:8080/"
        },
        "id": "ENqPlAQ4jdi5",
        "outputId": "2693fb8a-f14f-4de4-de71-9f3faa489234"
      },
      "source": [
        "chain=('This is a chain')\n",
        "print (chain)"
      ],
      "execution_count": 100,
      "outputs": [
        {
          "output_type": "stream",
          "name": "stdout",
          "text": [
            "This is a chain\n"
          ]
        }
      ]
    },
    {
      "cell_type": "markdown",
      "metadata": {
        "id": "1Zzt1H2DkZeH"
      },
      "source": [
        "The rule is... **When you are going to display text, the inside of the print parentheses is enclosed in quotation marks *** \n",
        "\n",
        "---\n",
        "\n"
      ]
    },
    {
      "cell_type": "markdown",
      "metadata": {
        "id": "kCpgnYuklFcK"
      },
      "source": [
        "####Print Numbers"
      ]
    },
    {
      "cell_type": "markdown",
      "metadata": {
        "id": "RHRITiQyliLL"
      },
      "source": [
        "If, instead of text, you want to show numbers, or the result of an operation, you must take this rule into account:\n",
        "\n",
        "**When you want to show numbers or operations, the inside of the parenthesis is without quotation marks**"
      ]
    },
    {
      "cell_type": "code",
      "metadata": {
        "colab": {
          "base_uri": "https://localhost:8080/"
        },
        "id": "3Tbk_LGAl__x",
        "outputId": "0c237f9c-dab0-4060-9470-68afbc0cd082"
      },
      "source": [
        "print (1+2)"
      ],
      "execution_count": 101,
      "outputs": [
        {
          "output_type": "stream",
          "name": "stdout",
          "text": [
            "3\n"
          ]
        }
      ]
    },
    {
      "cell_type": "code",
      "metadata": {
        "colab": {
          "base_uri": "https://localhost:8080/"
        },
        "id": "Gl8AK2W-mNW3",
        "outputId": "80ebf268-6c26-4e25-a650-0cf511739374"
      },
      "source": [
        "a= 4 * 5\n",
        "print (a)"
      ],
      "execution_count": 102,
      "outputs": [
        {
          "output_type": "stream",
          "name": "stdout",
          "text": [
            "20\n"
          ]
        }
      ]
    },
    {
      "cell_type": "markdown",
      "metadata": {
        "id": "X-ss7UDAoMfg"
      },
      "source": [
        "\n",
        "\n",
        "---\n",
        "\n"
      ]
    },
    {
      "cell_type": "markdown",
      "metadata": {
        "id": "ETZuT_9zmmLc"
      },
      "source": [
        "#### Print Text and Numbers"
      ]
    },
    {
      "cell_type": "markdown",
      "metadata": {
        "id": "aLMWvpX1mrP7"
      },
      "source": [
        "The print() function allows you to include variables or expressions as arguments, which allows you to combine text and variables.\n",
        "\n",
        "To combine text with operations, you must respect the rule I mentioned before:\n",
        "\n",
        "**Text has quotation marks, numbers and variables do not.**"
      ]
    },
    {
      "cell_type": "code",
      "metadata": {
        "colab": {
          "base_uri": "https://localhost:8080/"
        },
        "id": "BiH8OzRpnHr_",
        "outputId": "c57b14e5-afb0-4cbc-e25e-cb7632e1ddc1"
      },
      "source": [
        "nombre= 'Juan'\n",
        "edad= 20\n",
        "print ('Me llamo', nombre, 'y tengo', edad, 'años')"
      ],
      "execution_count": 103,
      "outputs": [
        {
          "output_type": "stream",
          "name": "stdout",
          "text": [
            "Me llamo Juan y tengo 20 años\n"
          ]
        }
      ]
    },
    {
      "cell_type": "markdown",
      "metadata": {
        "id": "J6zQNGSsoJsK"
      },
      "source": [
        "\n",
        "\n",
        "---\n",
        "\n"
      ]
    },
    {
      "cell_type": "markdown",
      "metadata": {
        "id": "m4uE-PpUn00E"
      },
      "source": [
        "### If- Else"
      ]
    },
    {
      "cell_type": "markdown",
      "metadata": {
        "id": "Ql0pTyk7oCCs"
      },
      "source": [
        "There are occasions when the basic **if** statement is not sufficient and it is necessary to execute a set of instructions or statements when the condition evaluates to **False**.\n",
        "\n",
        "Imagine that you are implementing a program in which you need to perform the division of two numbers. If you divide a number by 0, the program will throw an error and terminate. To avoid this, we can add an **if else statement** as in the following example:"
      ]
    },
    {
      "cell_type": "code",
      "metadata": {
        "colab": {
          "base_uri": "https://localhost:8080/"
        },
        "id": "-JcitBoRpPJy",
        "outputId": "d6adb701-8496-4c35-cec6-7e0d7d31bd15"
      },
      "source": [
        "result= None\n",
        "x=10\n",
        "y=0\n",
        "if y !=0:\n",
        "  result= x / y \n",
        "else :\n",
        "  result = f'You cannot divide {x} by {y}'\n",
        "  print (result)"
      ],
      "execution_count": 104,
      "outputs": [
        {
          "output_type": "stream",
          "name": "stdout",
          "text": [
            "You cannot divide 10 by 0\n"
          ]
        }
      ]
    },
    {
      "cell_type": "markdown",
      "metadata": {
        "id": "MKRe0dIPrPF5"
      },
      "source": [
        "### Loops"
      ]
    },
    {
      "cell_type": "markdown",
      "metadata": {
        "id": "KT25TO97rzEs"
      },
      "source": [
        "To show you the importance of loops, just imagine that you have to develop a program that must print the same statement 100,000 times. Would you dare to repeat that statement 100,000 times, manually? I certainly wouldn't, and I take it for granted that you wouldn't either. I'm sure you have much more important things to do. So therein lies the beauty of looping."
      ]
    },
    {
      "cell_type": "markdown",
      "metadata": {
        "id": "R12FAG-F26qh"
      },
      "source": [
        "\n",
        "\n",
        "---\n",
        "\n"
      ]
    },
    {
      "cell_type": "markdown",
      "metadata": {
        "id": "nMHhtGZzr8wS"
      },
      "source": [
        "####While Loop"
      ]
    },
    {
      "cell_type": "markdown",
      "metadata": {
        "id": "G4HzquRysBh_"
      },
      "source": [
        "In this type of iteration, as long as the test evaluates to true, the statement or block of statements will continue to execute. Therefore, the flow will execute all the statements within the loop block and if the loop conditioner is false, the following statements will be executed after the while. If the conditional always results in true, in that case, we will get what is called an infinite loop.\n",
        "\n",
        "**An example**: "
      ]
    },
    {
      "cell_type": "code",
      "metadata": {
        "colab": {
          "base_uri": "https://localhost:8080/"
        },
        "id": "O7NZ0-bezNgo",
        "outputId": "fb8c4117-e8d5-4db3-ed83-7d4401b366ab"
      },
      "source": [
        "#!/usr/bin/env python\n",
        "# -*- coding: utf-8 -*-\n",
        "i = 0 \n",
        "while (i <= 9): \n",
        "    i +=1     \n",
        "    print (i) "
      ],
      "execution_count": 105,
      "outputs": [
        {
          "output_type": "stream",
          "name": "stdout",
          "text": [
            "1\n",
            "2\n",
            "3\n",
            "4\n",
            "5\n",
            "6\n",
            "7\n",
            "8\n",
            "9\n",
            "10\n"
          ]
        }
      ]
    },
    {
      "cell_type": "markdown",
      "metadata": {
        "id": "V9Lpm6VM23w0"
      },
      "source": [
        "\n",
        "\n",
        "---\n",
        "\n"
      ]
    },
    {
      "cell_type": "markdown",
      "metadata": {
        "id": "96lwCFDnxDiK"
      },
      "source": [
        "####Loop For"
      ]
    },
    {
      "cell_type": "markdown",
      "metadata": {
        "id": "xyRTYUOSxRd7"
      },
      "source": [
        "The for loop is an iteration that loops through the elements of an ordered sequence such as lists, dictionaries, tuples, strings, etc.\n",
        "\n",
        "A for loop could look like flipping through a book page by page and extracting only the images. The fact of extracting only the images would be the condition and once all the images are extracted, the condition would be met and the loop would stop.\n",
        "\n",
        "In the case of a for loop, the variable where the items of the iterable element (list, dictionary, string, etc.) will be stored must be specified.\n",
        "\n",
        "The for statement is placed followed by the variable where the items will be stored and after the \"in\" operator the element to iterate\n",
        "\n",
        "Once the iteration of the element is finished, the loop is stopped, i.e. it will run as long as the condition is met\n",
        "\n",
        "\n",
        "**An example**: let's iterate a list of numbers and extract only those that are even:"
      ]
    },
    {
      "cell_type": "code",
      "metadata": {
        "colab": {
          "base_uri": "https://localhost:8080/"
        },
        "id": "XI43oSqh06Pu",
        "outputId": "6d3e2997-552f-4b09-e7cc-7937577eedbb"
      },
      "source": [
        "#!/usr/bin/env python\n",
        "# -*- coding: utf-8 -*-\n",
        "\n",
        "numeros = [1, 2, 3, 4, 5, 6, 7, 8, 9\n",
        ",10, 11, 12, 13, 14] \n",
        "for num in numeros: \n",
        "    if num % 2 == 0: \n",
        "        print (num) "
      ],
      "execution_count": 106,
      "outputs": [
        {
          "output_type": "stream",
          "name": "stdout",
          "text": [
            "2\n",
            "4\n",
            "6\n",
            "8\n",
            "10\n",
            "12\n",
            "14\n"
          ]
        }
      ]
    },
    {
      "cell_type": "markdown",
      "metadata": {
        "id": "U6mE_Vix29fH"
      },
      "source": [
        "\n",
        "\n",
        "---\n",
        "\n"
      ]
    },
    {
      "cell_type": "markdown",
      "metadata": {
        "id": "rNff1FgV2pdk"
      },
      "source": [
        "#### Control of loops"
      ]
    },
    {
      "cell_type": "markdown",
      "metadata": {
        "id": "S0jAp-YK3BBQ"
      },
      "source": [
        "Sometimes we may not want a loop to keep repeating infinitely when it has already fulfilled its function, for this there is loop control by means of these three instructions!..."
      ]
    },
    {
      "cell_type": "markdown",
      "metadata": {
        "id": "FyQ3oNLl4B1W"
      },
      "source": [
        ""
      ]
    },
    {
      "cell_type": "markdown",
      "metadata": {
        "id": "ZFMd9zy53O9k"
      },
      "source": [
        "####Break"
      ]
    },
    {
      "cell_type": "markdown",
      "metadata": {
        "id": "OBSAHROE3WcO"
      },
      "source": [
        "This instruction is used to end a loop, that is to say, to exit it and continue with the execution of the rest of the instructions of the program."
      ]
    },
    {
      "cell_type": "markdown",
      "metadata": {
        "id": "tBrc3lIQ3mh7"
      },
      "source": [
        "#### Continue"
      ]
    },
    {
      "cell_type": "markdown",
      "metadata": {
        "id": "c6oX196g3s_3"
      },
      "source": [
        "The continue instruction within a loop forces the interpreter to return to the beginning of the loop, bypassing all the instructions or iterations below it.\n",
        "\n",
        "If instead of placing a break, we would place a continue instead, when selecting an option it would return us to the beginning, asking us again."
      ]
    },
    {
      "cell_type": "markdown",
      "metadata": {
        "id": "DYne-XiP4JGB"
      },
      "source": [
        "\n",
        "####Pass"
      ]
    },
    {
      "cell_type": "markdown",
      "metadata": {
        "id": "j1oLSIMo4QTw"
      },
      "source": [
        "The Pass instruction is, as its name indicates, a null expression, it does nothing. It is almost as if it did not exist, but it allows us to create a loop without placing code in its body to add it later using it as a temporary filler.\n",
        "\n",
        "The difference with continue is that it terminates the current iteration but continues with the next instruction or iteration of the loop, returning to the beginning. On the other hand, pass does nothing and continues with the next instructions of the loop without returning to the beginning. "
      ]
    },
    {
      "cell_type": "markdown",
      "metadata": {
        "id": "BkBPSfK243jZ"
      },
      "source": [
        "#***Bibliography***"
      ]
    },
    {
      "cell_type": "markdown",
      "metadata": {
        "id": "_0livF_U5Q-Y"
      },
      "source": [
        "Pythones.Net (2018) *Bucles for, while en Python: Sintaxis, Ejemplos de su uso*. Recuperado el 17 de Septiembre de 2021, de\n",
        "https://pythones.net/bucles-for-while-sintaxis-ejemplos/"
      ]
    },
    {
      "cell_type": "markdown",
      "metadata": {
        "id": "vbdiBB1e6acv"
      },
      "source": [
        "Programacion.Net (S/F) *Cómo funcionan los bucles en Python*. Recuperado el 17 de Septiembre de 2021, de\n",
        "https://programacion.net/articulo/como_funcionan_los_bucles_en_python_1508"
      ]
    },
    {
      "cell_type": "markdown",
      "metadata": {
        "id": "q4ND0eGC7Rsw"
      },
      "source": [
        "J2Logo (2018) *Python if – Sentencia if de control de flujo*. Recuperado el 17 de Septiembre de 2021, de\n",
        "https://j2logo.com/python/tutorial/python-if-sentencia/"
      ]
    },
    {
      "cell_type": "markdown",
      "metadata": {
        "id": "Iak0in397wAh"
      },
      "source": [
        "adrformacion (2021) *La función Print() en Python*. Recuperado el 17 de Septiembre de 2021, de\n",
        "https://www.adrformacion.com/knowledge/programacion/2___print__.html#:~:text=Cuando%20print()%20incluye%20una,de%20las%20cadenas%20'f'."
      ]
    },
    {
      "cell_type": "markdown",
      "metadata": {
        "id": "0nLW1RB88TKQ"
      },
      "source": [
        "Angel Manuel Robledano (2019) *Qué es Python: Características, evolución y futuro*. Recuperado el 17 de Septiembre de 2021, de\n",
        "https://openwebinars.net/blog/que-es-python/"
      ]
    }
  ]
}